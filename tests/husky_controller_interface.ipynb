{
 "cells": [
  {
   "cell_type": "code",
   "execution_count": 1,
   "id": "ad5f4a86",
   "metadata": {},
   "outputs": [
    {
     "name": "stderr",
     "output_type": "stream",
     "text": [
      "\u001b[93m[WARNING] [17:34:33.676688] - No global configuration provided. Using default system configuration.\u001b[0m\n",
      "\u001b[96m[INFO] [17:34:33.680455] - Service: Successfully registered '__DEFAULT_SERVICE/GetInfo/HuskyJointController_1b928dbb-f466-4144-8311-de5ad07d1970' with registry.\u001b[0m\n",
      "\u001b[96m[INFO] [17:34:33.683302] - Service: Successfully registered '__DEFAULT_SERVICE/SuspendNode/HuskyJointController_1b928dbb-f466-4144-8311-de5ad07d1970' with registry.\u001b[0m\n",
      "\u001b[96m[INFO] [17:34:33.687021] - Service: Successfully registered '__DEFAULT_SERVICE/RestartNode/HuskyJointController_1b928dbb-f466-4144-8311-de5ad07d1970' with registry.\u001b[0m\n",
      "\u001b[91m[ERROR] [17:34:33.688146] - Couldn't load config for other 'HuskyJointController'\u001b[0m\n",
      "\u001b[92m\u001b[1m[OK] [17:34:33.689719] - setup publisher Husky/joint_group_command/sim[joint_group_command_t]\u001b[0m\n",
      "\u001b[92m\u001b[1m[OK] [17:34:33.691384] - setup publisher Husky/cartesian_command/sim[task_space_command_t]\u001b[0m\n",
      "\u001b[92m\u001b[1m[OK] [17:34:33.693991] - subscribed to Husky/joint_states/sim[joint_state_t]\u001b[0m\n"
     ]
    },
    {
     "name": "stdout",
     "output_type": "stream",
     "text": [
      "None\n"
     ]
    }
   ],
   "source": [
    "import numpy as np\n",
    "from arktypes import joint_group_command_t, task_space_command_t, joint_state_t\n",
    "from arktypes.utils import unpack, pack\n",
    "from ark.client.comm_infrastructure.instance_node import InstanceNode\n",
    "\n",
    "SIM = True\n",
    "\n",
    "class HuskyControllerNode(InstanceNode):\n",
    "\n",
    "    def __init__(self):\n",
    "        '''\n",
    "        Initialize the HuskyJointController.\n",
    "        This class is responsible for controlling the Husky robot's joints.\n",
    "        '''\n",
    "        super().__init__(\"HuskyJointController\")\n",
    "\n",
    "        if SIM == True:\n",
    "            self.joint_group_command = self.create_publisher(\"Husky/joint_group_command/sim\", joint_group_command_t)\n",
    "            self.task_space_command = self.create_publisher(\"Husky/cartesian_command/sim\", task_space_command_t)\n",
    "\n",
    "            self.state = self.create_listener(\"Husky/joint_states/sim\", joint_state_t)\n",
    "\n",
    "controller = HuskyControllerNode()"
   ]
  },
  {
   "cell_type": "markdown",
   "id": "7142c226",
   "metadata": {},
   "source": [
    "---"
   ]
  },
  {
   "cell_type": "markdown",
   "id": "e9f1afe2",
   "metadata": {},
   "source": [
    "# Joint Group Control"
   ]
  },
  {
   "cell_type": "code",
   "execution_count": 15,
   "id": "d86ec1f1",
   "metadata": {},
   "outputs": [],
   "source": [
    "# FORWARDS\n",
    "joint_command = [5, 5, 5, 5] # front left, front right, back left, back right\n",
    "# Velocity Control\n",
    "controller.joint_group_command.publish(pack.joint_group_command(joint_command, \"wheels\"))"
   ]
  },
  {
   "cell_type": "code",
   "execution_count": 14,
   "id": "299c70cf",
   "metadata": {},
   "outputs": [],
   "source": [
    "# BACKWARDS\n",
    "joint_command = [-5, -5, -5, -5] # front left, front right, back left, back right\n",
    "# Velocity Control\n",
    "controller.joint_group_command.publish(pack.joint_group_command(joint_command, \"wheels\"))"
   ]
  },
  {
   "cell_type": "code",
   "execution_count": 16,
   "id": "112ae146",
   "metadata": {},
   "outputs": [],
   "source": [
    "# STOP\n",
    "joint_command = [0, 0, 0, 0] # front left, front right, back left, back right\n",
    "# Velocity Control\n",
    "controller.joint_group_command.publish(pack.joint_group_command(joint_command, \"wheels\"))"
   ]
  },
  {
   "cell_type": "markdown",
   "id": "7e0a44fc",
   "metadata": {},
   "source": [
    "---"
   ]
  },
  {
   "cell_type": "markdown",
   "id": "c31a26f4",
   "metadata": {},
   "source": [
    "# Joint States"
   ]
  },
  {
   "cell_type": "code",
   "execution_count": 9,
   "id": "75d0155f",
   "metadata": {},
   "outputs": [
    {
     "data": {
      "text/plain": [
       "({'seq': 0, 'stamp': {'sec': 0, 'nsec': 0}, 'frame_id': ''},\n",
       " ['front_left_wheel',\n",
       "  'front_right_wheel',\n",
       "  'rear_left_wheel',\n",
       "  'rear_right_wheel'],\n",
       " array([-0.95493975,  0.6826147 ,  7.97192306, -9.61348529]),\n",
       " array([0., 0., 0., 0.]),\n",
       " array([0., 0., 0., 0.]))"
      ]
     },
     "execution_count": 9,
     "metadata": {},
     "output_type": "execute_result"
    }
   ],
   "source": [
    "unpack.joint_state(controller.state.get())"
   ]
  }
 ],
 "metadata": {
  "kernelspec": {
   "display_name": "ark_env",
   "language": "python",
   "name": "python3"
  },
  "language_info": {
   "codemirror_mode": {
    "name": "ipython",
    "version": 3
   },
   "file_extension": ".py",
   "mimetype": "text/x-python",
   "name": "python",
   "nbconvert_exporter": "python",
   "pygments_lexer": "ipython3",
   "version": "3.11.13"
  }
 },
 "nbformat": 4,
 "nbformat_minor": 5
}
